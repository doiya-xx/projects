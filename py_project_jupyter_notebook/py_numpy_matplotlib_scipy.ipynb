{
 "cells": [
  {
   "cell_type": "code",
   "execution_count": 43,
   "id": "c9f3f98d",
   "metadata": {},
   "outputs": [],
   "source": [
    "import numpy as np\n",
    "import matplotlib as mpl\n",
    "import matplotlib.pyplot as plt\n",
    "import scipy"
   ]
  },
  {
   "cell_type": "code",
   "execution_count": 2,
   "id": "92dbc906",
   "metadata": {},
   "outputs": [
    {
     "name": "stdout",
     "output_type": "stream",
     "text": [
      "Hello world\n"
     ]
    }
   ],
   "source": [
    "print('Hello world')"
   ]
  },
  {
   "cell_type": "code",
   "execution_count": 3,
   "id": "d1265e86-fa7a-4205-8fc2-a526f0fa45ae",
   "metadata": {},
   "outputs": [
    {
     "data": {
      "text/plain": [
       "\u001b[1;31mDocstring:\u001b[0m\n",
       "print(value, ..., sep=' ', end='\\n', file=sys.stdout, flush=False)\n",
       "\n",
       "Prints the values to a stream, or to sys.stdout by default.\n",
       "Optional keyword arguments:\n",
       "file:  a file-like object (stream); defaults to the current sys.stdout.\n",
       "sep:   string inserted between values, default a space.\n",
       "end:   string appended after the last value, default a newline.\n",
       "flush: whether to forcibly flush the stream.\n",
       "\u001b[1;31mType:\u001b[0m      builtin_function_or_method\n"
      ]
     },
     "metadata": {},
     "output_type": "display_data"
    }
   ],
   "source": [
    "print?"
   ]
  },
  {
   "cell_type": "code",
   "execution_count": 4,
   "id": "e2e6c48e-a659-43a7-b54f-35ab7ea16359",
   "metadata": {},
   "outputs": [
    {
     "name": "stdout",
     "output_type": "stream",
     "text": [
      "Hello world\n"
     ]
    }
   ],
   "source": [
    "s = 'Hello world'\n",
    "print(s)"
   ]
  },
  {
   "cell_type": "code",
   "execution_count": 5,
   "id": "4d563799-4ef0-4015-9d1d-719b22eb2c6c",
   "metadata": {},
   "outputs": [
    {
     "name": "stdout",
     "output_type": "stream",
     "text": [
      "Variable   Type      Data/Info\n",
      "------------------------------\n",
      "mpl        module    <module 'matplotlib' from<...>matplotlib\\\\__init__.py'>\n",
      "np         module    <module 'numpy' from 'D:\\<...>ges\\\\numpy\\\\__init__.py'>\n",
      "plt        module    <module 'matplotlib.pyplo<...>\\\\matplotlib\\\\pyplot.py'>\n",
      "s          str       Hello world\n"
     ]
    }
   ],
   "source": [
    "%whos"
   ]
  },
  {
   "cell_type": "code",
   "execution_count": 6,
   "id": "492e4be9-48f3-43a4-b647-67670b33c61d",
   "metadata": {},
   "outputs": [
    {
     "data": {
      "text/plain": [
       "(10, 1)"
      ]
     },
     "execution_count": 6,
     "metadata": {},
     "output_type": "execute_result"
    }
   ],
   "source": [
    "x = 10\n",
    "x.as_integer_ratio()"
   ]
  },
  {
   "cell_type": "code",
   "execution_count": 7,
   "id": "00bcddf7-454c-4dce-a497-204c32c05ec8",
   "metadata": {},
   "outputs": [
    {
     "name": "stdout",
     "output_type": "stream",
     "text": [
      "E:\\Projects\\py_project_jupyter_notebook\n"
     ]
    }
   ],
   "source": [
    "%cd ./"
   ]
  },
  {
   "cell_type": "markdown",
   "id": "fc97d1a9-9ad3-4cb6-ab63-9b8b6d253f0d",
   "metadata": {
    "tags": []
   },
   "source": [
    "### 1.2.1 First steps"
   ]
  },
  {
   "cell_type": "code",
   "execution_count": 8,
   "id": "e8e34e1c-eedc-490b-845e-ae6f581b8f74",
   "metadata": {},
   "outputs": [
    {
     "data": {
      "text/plain": [
       "int"
      ]
     },
     "execution_count": 8,
     "metadata": {},
     "output_type": "execute_result"
    }
   ],
   "source": [
    "a = 3\n",
    "b = 2*a\n",
    "type(b)"
   ]
  },
  {
   "cell_type": "code",
   "execution_count": 9,
   "id": "776ac260-f7a8-418a-b020-cfb888899190",
   "metadata": {},
   "outputs": [
    {
     "name": "stdout",
     "output_type": "stream",
     "text": [
      "6\n"
     ]
    }
   ],
   "source": [
    "print(b)"
   ]
  },
  {
   "cell_type": "code",
   "execution_count": 10,
   "id": "c7bb19d5-14ba-4e3b-9cec-29b26ebe8503",
   "metadata": {},
   "outputs": [
    {
     "data": {
      "text/plain": [
       "18"
      ]
     },
     "execution_count": 10,
     "metadata": {},
     "output_type": "execute_result"
    }
   ],
   "source": [
    "a*b"
   ]
  },
  {
   "cell_type": "code",
   "execution_count": 11,
   "id": "b543a5ad-8965-4350-ac90-fb5f97229000",
   "metadata": {},
   "outputs": [
    {
     "data": {
      "text/plain": [
       "str"
      ]
     },
     "execution_count": 11,
     "metadata": {},
     "output_type": "execute_result"
    }
   ],
   "source": [
    "b = 'hello'\n",
    "type(b)"
   ]
  },
  {
   "cell_type": "code",
   "execution_count": 12,
   "id": "fe5f813f-3ecf-4614-9335-ad181e54318d",
   "metadata": {},
   "outputs": [
    {
     "data": {
      "text/plain": [
       "'hellohello'"
      ]
     },
     "execution_count": 12,
     "metadata": {},
     "output_type": "execute_result"
    }
   ],
   "source": [
    "b + b"
   ]
  },
  {
   "cell_type": "code",
   "execution_count": 13,
   "id": "d333099d-eb06-418a-9491-824f67bcb656",
   "metadata": {},
   "outputs": [
    {
     "data": {
      "text/plain": [
       "'hellohello'"
      ]
     },
     "execution_count": 13,
     "metadata": {},
     "output_type": "execute_result"
    }
   ],
   "source": [
    "2*b"
   ]
  },
  {
   "cell_type": "markdown",
   "id": "16d237c3-b8a3-44df-99bf-d47dab0151eb",
   "metadata": {},
   "source": [
    "## 2.2 Basic types\n",
    "\n",
    "### 2.2.1 Numerical types"
   ]
  },
  {
   "cell_type": "code",
   "execution_count": 14,
   "id": "ad9f03bb-8dc3-45d3-b88c-825c0bd0282f",
   "metadata": {},
   "outputs": [
    {
     "data": {
      "text/plain": [
       "int"
      ]
     },
     "execution_count": 14,
     "metadata": {},
     "output_type": "execute_result"
    }
   ],
   "source": [
    "a =4\n",
    "type(a)"
   ]
  },
  {
   "cell_type": "code",
   "execution_count": 15,
   "id": "869513ba-3f2d-4428-8a66-48c1ed6c42f4",
   "metadata": {},
   "outputs": [
    {
     "data": {
      "text/plain": [
       "float"
      ]
     },
     "execution_count": 15,
     "metadata": {},
     "output_type": "execute_result"
    }
   ],
   "source": [
    "c=2.1\n",
    "type(c)"
   ]
  },
  {
   "cell_type": "code",
   "execution_count": 16,
   "id": "0ccf0b6c-f0b1-4772-bdb1-c164e0907ec6",
   "metadata": {},
   "outputs": [
    {
     "name": "stdout",
     "output_type": "stream",
     "text": [
      "1.5\n",
      "0.5\n"
     ]
    },
    {
     "data": {
      "text/plain": [
       "complex"
      ]
     },
     "execution_count": 16,
     "metadata": {},
     "output_type": "execute_result"
    }
   ],
   "source": [
    "a = 1.5+0.5j\n",
    "print(a.real)\n",
    "print(a.imag)\n",
    "type(a)"
   ]
  },
  {
   "cell_type": "code",
   "execution_count": 17,
   "id": "7a2d6796-ea20-4478-90b9-0ac7f1cb2390",
   "metadata": {},
   "outputs": [
    {
     "data": {
      "text/plain": [
       "bool"
      ]
     },
     "execution_count": 17,
     "metadata": {},
     "output_type": "execute_result"
    }
   ],
   "source": [
    "3>4\n",
    "test = True\n",
    "type(test)"
   ]
  },
  {
   "cell_type": "code",
   "execution_count": 18,
   "id": "c3f5403f-b6ab-4eff-9b6b-2203f1f74e34",
   "metadata": {},
   "outputs": [
    {
     "data": {
      "text/plain": [
       "1024"
      ]
     },
     "execution_count": 18,
     "metadata": {},
     "output_type": "execute_result"
    }
   ],
   "source": [
    "2**10"
   ]
  },
  {
   "cell_type": "code",
   "execution_count": 19,
   "id": "8bd3342b-ab23-4225-86a5-39a231c58270",
   "metadata": {},
   "outputs": [
    {
     "data": {
      "text/plain": [
       "1.5"
      ]
     },
     "execution_count": 19,
     "metadata": {},
     "output_type": "execute_result"
    }
   ],
   "source": [
    "3/2"
   ]
  },
  {
   "cell_type": "markdown",
   "id": "33082c42-bfcd-4008-a0da-4546b2fd3a64",
   "metadata": {},
   "source": [
    "### 2.2.2 Containers"
   ]
  },
  {
   "cell_type": "code",
   "execution_count": 20,
   "id": "3748e67a-f3ef-4be2-b34c-bb81c97ac9e3",
   "metadata": {},
   "outputs": [
    {
     "data": {
      "text/plain": [
       "list"
      ]
     },
     "execution_count": 20,
     "metadata": {},
     "output_type": "execute_result"
    }
   ],
   "source": [
    "colors = ['red', 'blue', 'green', 'black', 'white']\n",
    "type(colors)"
   ]
  },
  {
   "cell_type": "code",
   "execution_count": 21,
   "id": "08e94a05-42cb-44d1-b4e7-3aae78de9c42",
   "metadata": {},
   "outputs": [
    {
     "data": {
      "text/plain": [
       "['red', 'blue', 'green', 'black', 'white']"
      ]
     },
     "execution_count": 21,
     "metadata": {},
     "output_type": "execute_result"
    }
   ],
   "source": [
    "colors"
   ]
  },
  {
   "cell_type": "code",
   "execution_count": 22,
   "id": "629b4fb1-3f58-4898-a494-a44610fef619",
   "metadata": {},
   "outputs": [
    {
     "data": {
      "text/plain": [
       "'green'"
      ]
     },
     "execution_count": 22,
     "metadata": {},
     "output_type": "execute_result"
    }
   ],
   "source": [
    "colors[2]"
   ]
  },
  {
   "cell_type": "raw",
   "id": "95a55a48-667d-4eb0-93bc-05e3b0f7fc4c",
   "metadata": {},
   "source": [
    "# colors[1:3] = []\n",
    "# colors"
   ]
  },
  {
   "cell_type": "markdown",
   "id": "61f8db2e-7344-4160-ad1d-10ac12861582",
   "metadata": {},
   "source": [
    "### 2.2.3 Assiugnment operator"
   ]
  },
  {
   "cell_type": "markdown",
   "id": "ae01a025-d0e0-4594-a957-12a3b86b3cae",
   "metadata": {},
   "source": [
    "python 中的动态类型，赋值的时候，采用浅拷贝的方式，对象存放在堆上，变量名次保存指向堆的引用，赋值时将引用进行拷贝"
   ]
  },
  {
   "cell_type": "code",
   "execution_count": 23,
   "id": "59013097-56d7-4fbe-a7f7-0205706f1810",
   "metadata": {},
   "outputs": [],
   "source": [
    "a = [1,2,3]\n",
    "b = a"
   ]
  },
  {
   "cell_type": "code",
   "execution_count": 24,
   "id": "c3166286-12c0-4ea4-bca3-36e2de98c090",
   "metadata": {},
   "outputs": [
    {
     "data": {
      "text/plain": [
       "[1, 2, 3]"
      ]
     },
     "execution_count": 24,
     "metadata": {},
     "output_type": "execute_result"
    }
   ],
   "source": [
    "a"
   ]
  },
  {
   "cell_type": "code",
   "execution_count": 25,
   "id": "ceea5683-3ba9-45cf-a3f6-7ce7803c305c",
   "metadata": {},
   "outputs": [
    {
     "data": {
      "text/plain": [
       "[1, 2, 3]"
      ]
     },
     "execution_count": 25,
     "metadata": {},
     "output_type": "execute_result"
    }
   ],
   "source": [
    "b"
   ]
  },
  {
   "cell_type": "code",
   "execution_count": 26,
   "id": "5ebfaf8f-f1ff-404d-ad2d-1e49174edae7",
   "metadata": {},
   "outputs": [
    {
     "data": {
      "text/plain": [
       "True"
      ]
     },
     "execution_count": 26,
     "metadata": {},
     "output_type": "execute_result"
    }
   ],
   "source": [
    "a is b"
   ]
  },
  {
   "cell_type": "code",
   "execution_count": 27,
   "id": "63658e27-2209-4ee9-b199-309e94804059",
   "metadata": {},
   "outputs": [
    {
     "data": {
      "text/plain": [
       "[1, 'hi!', 3]"
      ]
     },
     "execution_count": 27,
     "metadata": {},
     "output_type": "execute_result"
    }
   ],
   "source": [
    "b[1] = 'hi!'\n",
    "a"
   ]
  },
  {
   "cell_type": "code",
   "execution_count": 28,
   "id": "61498b67-ba47-42d1-b0dd-9885a8238c71",
   "metadata": {},
   "outputs": [
    {
     "data": {
      "text/plain": [
       "2215991308160"
      ]
     },
     "execution_count": 28,
     "metadata": {},
     "output_type": "execute_result"
    }
   ],
   "source": [
    "id(a)"
   ]
  },
  {
   "cell_type": "code",
   "execution_count": 29,
   "id": "102db159-95fc-4275-bb3c-dcbb858b1b61",
   "metadata": {},
   "outputs": [
    {
     "data": {
      "text/plain": [
       "2215991308160"
      ]
     },
     "execution_count": 29,
     "metadata": {},
     "output_type": "execute_result"
    }
   ],
   "source": [
    "id(b)"
   ]
  },
  {
   "cell_type": "markdown",
   "id": "f0274625-9eb3-4efa-a752-035214e88bde",
   "metadata": {},
   "source": [
    "两个变量的id值相同"
   ]
  },
  {
   "cell_type": "markdown",
   "id": "fbc4b32e-a196-4b3f-93da-671736513cc9",
   "metadata": {},
   "source": [
    "修改切片值"
   ]
  },
  {
   "cell_type": "code",
   "execution_count": 30,
   "id": "2a2532a6-7fa8-4de5-9826-3af5f3d5f7e1",
   "metadata": {},
   "outputs": [
    {
     "data": {
      "text/plain": [
       "[1, 2, 3, 4, 5]"
      ]
     },
     "execution_count": 30,
     "metadata": {},
     "output_type": "execute_result"
    }
   ],
   "source": [
    "a[:] = [1,2,3,4,5]\n",
    "a"
   ]
  },
  {
   "cell_type": "code",
   "execution_count": 31,
   "id": "f59c61d4-5b48-4461-97e3-04016f32a313",
   "metadata": {},
   "outputs": [],
   "source": [
    "pi = 2.0"
   ]
  },
  {
   "cell_type": "code",
   "execution_count": 40,
   "id": "a752e9c7-1a71-4ef4-94c7-fc618aaa10a0",
   "metadata": {},
   "outputs": [
    {
     "name": "stdout",
     "output_type": "stream",
     "text": [
      "pi: 3.141592643066262\n"
     ]
    }
   ],
   "source": [
    "pi = 2.0\n",
    "for i in range(1, int(1e8)+1):\n",
    "    u = 4.*i*i\n",
    "    v = u-1.\n",
    "    pi = pi * (u/v)\n",
    "print(f'pi: {pi}')"
   ]
  },
  {
   "cell_type": "code",
   "execution_count": 41,
   "id": "bc0a7c42-c3a6-4754-82b8-fa82c2702333",
   "metadata": {},
   "outputs": [
    {
     "name": "stdout",
     "output_type": "stream",
     "text": [
      "3.1414926535900345\n"
     ]
    }
   ],
   "source": [
    "pi = 0\n",
    "accuracy = 10000\n",
    "\n",
    "for i in range(0, accuracy):\n",
    "    pi += ((4.0 * (-1)**i) / (2*i + 1))\n",
    "\n",
    "print(pi)"
   ]
  },
  {
   "cell_type": "code",
   "execution_count": 42,
   "id": "2f5ebbb5-7cc2-4a34-85cd-5dc0c1d363bd",
   "metadata": {},
   "outputs": [
    {
     "data": {
      "text/plain": [
       "array([ 0.,  2.,  4.,  6.,  8., 10.])"
      ]
     },
     "execution_count": 42,
     "metadata": {},
     "output_type": "execute_result"
    }
   ],
   "source": [
    "np.linspace(0, 10, 6)"
   ]
  },
  {
   "cell_type": "code",
   "execution_count": 44,
   "id": "95461361-79fc-4fce-bf68-95cd5f787fee",
   "metadata": {},
   "outputs": [
    {
     "name": "stdout",
     "output_type": "stream",
     "text": [
      "Hi, PyCharm\n"
     ]
    }
   ],
   "source": [
    "%run main.py"
   ]
  },
  {
   "cell_type": "code",
   "execution_count": 45,
   "id": "9586eba1-23da-49d8-8e92-8cca5c8b9b42",
   "metadata": {},
   "outputs": [
    {
     "data": {
      "text/plain": [
       "['.idea',\n",
       " '.ipynb_checkpoints',\n",
       " '.virtual_documents',\n",
       " 'main.py',\n",
       " 'package',\n",
       " 'py_1.ipynb',\n",
       " 'py_numpy_matplotlib_scipy.ipynb',\n",
       " 'untitled.md']"
      ]
     },
     "execution_count": 45,
     "metadata": {},
     "output_type": "execute_result"
    }
   ],
   "source": [
    "import os\n",
    "os.listdir('.')"
   ]
  },
  {
   "cell_type": "code",
   "execution_count": 50,
   "id": "e94fa76c-703a-4b2c-a4ef-9883cd5ddfa4",
   "metadata": {},
   "outputs": [
    {
     "data": {
      "text/plain": [
       "\u001b[1;31mType:\u001b[0m        module\n",
       "\u001b[1;31mString form:\u001b[0m <module 'main' from 'E:\\\\Projects\\\\py_project_jupyter_notebook\\\\main.py'>\n",
       "\u001b[1;31mFile:\u001b[0m        e:\\projects\\py_project_jupyter_notebook\\main.py\n",
       "\u001b[1;31mDocstring:\u001b[0m   <no docstring>\n"
      ]
     },
     "metadata": {},
     "output_type": "display_data"
    }
   ],
   "source": [
    "import main\n",
    "main?"
   ]
  },
  {
   "cell_type": "code",
   "execution_count": 52,
   "id": "3a49f3fa-8208-4dd7-9267-46b4b17fc65c",
   "metadata": {},
   "outputs": [
    {
     "name": "stdout",
     "output_type": "stream",
     "text": [
      "a\t accuracy\t b\t c\t colors\t i\t main\t mpl\t np\t \n",
      "os\t pi\t plt\t print_hi\t s\t scipy\t test\t u\t v\t \n",
      "x\t \n"
     ]
    }
   ],
   "source": [
    "who"
   ]
  },
  {
   "cell_type": "code",
   "execution_count": 51,
   "id": "8efb08dd-1b67-4e14-a0ce-536af6f1c45b",
   "metadata": {},
   "outputs": [
    {
     "name": "stdout",
     "output_type": "stream",
     "text": [
      "Variable   Type        Data/Info\n",
      "--------------------------------\n",
      "a          list        n=5\n",
      "accuracy   int         10000\n",
      "b          list        n=5\n",
      "c          float       2.1\n",
      "colors     list        n=5\n",
      "i          int         9999\n",
      "main       module      <module 'main' from 'E:\\\\<...>pyter_notebook\\\\main.py'>\n",
      "mpl        module      <module 'matplotlib' from<...>matplotlib\\\\__init__.py'>\n",
      "np         module      <module 'numpy' from 'D:\\<...>ges\\\\numpy\\\\__init__.py'>\n",
      "os         module      <module 'os' from 'D:\\\\Co<...>envs\\\\py310\\\\lib\\\\os.py'>\n",
      "pi         float       3.1414926535900345\n",
      "plt        module      <module 'matplotlib.pyplo<...>\\\\matplotlib\\\\pyplot.py'>\n",
      "print_hi   function    <function print_hi at 0x00000203F5E379A0>\n",
      "s          str         Hello world\n",
      "scipy      module      <module 'scipy' from 'D:\\<...>ges\\\\scipy\\\\__init__.py'>\n",
      "test       bool        True\n",
      "u          float       4e+16\n",
      "v          float       4e+16\n",
      "x          int         10\n"
     ]
    }
   ],
   "source": [
    "whos"
   ]
  },
  {
   "cell_type": "code",
   "execution_count": 53,
   "id": "73c92705-5245-4c9f-9a7d-e76a50d403b2",
   "metadata": {},
   "outputs": [
    {
     "data": {
      "text/plain": [
       "['__builtins__',\n",
       " '__cached__',\n",
       " '__doc__',\n",
       " '__file__',\n",
       " '__loader__',\n",
       " '__name__',\n",
       " '__package__',\n",
       " '__spec__',\n",
       " 'print_hi']"
      ]
     },
     "execution_count": 53,
     "metadata": {},
     "output_type": "execute_result"
    }
   ],
   "source": [
    "dir(main)"
   ]
  },
  {
   "cell_type": "code",
   "execution_count": null,
   "id": "88d36cf1-7656-46df-a432-a36ac845df17",
   "metadata": {},
   "outputs": [],
   "source": []
  }
 ],
 "metadata": {
  "kernelspec": {
   "display_name": "py310",
   "language": "python",
   "name": "py310"
  },
  "language_info": {
   "codemirror_mode": {
    "name": "ipython",
    "version": 3
   },
   "file_extension": ".py",
   "mimetype": "text/x-python",
   "name": "python",
   "nbconvert_exporter": "python",
   "pygments_lexer": "ipython3",
   "version": "3.10.6"
  }
 },
 "nbformat": 4,
 "nbformat_minor": 5
}
