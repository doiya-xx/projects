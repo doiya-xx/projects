import numpy as np
import matplotlib as mpl
import matplotlib.pyplot as plt
import scipy


print('Hello world')


get_ipython().run_line_magic('pinfo',  'print')


s = 'Hello world'
print(s)


get_ipython().run_line_magic("whos", "")


x = 10
x.as_integer_ratio()


get_ipython().run_line_magic("cd", " ./")


a = 3
b = 2*a
type(b)


print(b)


a*b


b = 'hello'
type(b)


b + b


2*b


a =4
type(a)


c=2.1
type(c)


a = 1.5+0.5j
print(a.real)
print(a.imag)
type(a)


3>4
test = True
type(test)


2**10


3/2


colors = ['red', 'blue', 'green', 'black', 'white']
type(colors)


colors


colors[2]


a = [1,2,3]
b = a


a


b


a is b


b[1] = 'hi!'
a


id(a)


id(b)


a[:] = [1,2,3,4,5]
a


pi = 2.0


pi = 2.0
for i in range(1, int(1e8)+1):
    u = 4.*i*i
    v = u-1.
    pi = pi * (u/v)
print(f'pi: {pi}')


pi = 0
accuracy = 10000

for i in range(0, accuracy):
    pi += ((4.0 * (-1)**i) / (2*i + 1))

print(pi)


np.linspace(0, 10, 6)


get_ipython().run_line_magic("run", " main.py")


import os
os.listdir('.')


import main
get_ipython().run_line_magic('pinfo',  'main')


who


whos


dir(main)



